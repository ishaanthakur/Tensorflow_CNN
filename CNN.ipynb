{
 "cells": [
  {
   "cell_type": "markdown",
   "metadata": {},
   "source": [
    "# ECE 4250 Final Kaggle Competition"
   ]
  },
  {
   "cell_type": "code",
   "execution_count": 1,
   "metadata": {},
   "outputs": [],
   "source": [
    "import numpy as np\n",
    "import nibabel as nib\n",
    "import scipy\n",
    "from scipy import ndimage, signal, stats\n",
    "from scipy.optimize import fmin\n",
    "from scipy.ndimage import rotate\n",
    "import matplotlib.pyplot as plt\n",
    "import math\n",
    "import cmath\n",
    "import cv2\n",
    "from cv2 import warpAffine\n",
    "from scipy.interpolate import RegularGridInterpolator\n",
    "import tabulate\n",
    "import random\n",
    "import scipy\n",
    "import skimage\n",
    "from scipy import ndimage\n",
    "from scipy import signal\n",
    "from scipy import stats\n",
    "from skimage.transform import warp, AffineTransform\n",
    "from IPython.display import HTML, display\n",
    "from skimage import transform, draw, filters\n",
    "from collections import Counter"
   ]
  },
  {
   "cell_type": "markdown",
   "metadata": {},
   "source": [
    "### Reading the data"
   ]
  },
  {
   "cell_type": "code",
   "execution_count": 2,
   "metadata": {},
   "outputs": [],
   "source": [
    "training_img , training_sgm, validation_img , validation_sgm, testing_img = [], [], [], [], []\n",
    "\n",
    "loc_validation_img, loc_validation_sgm = ['./4250-Data/Validation/IBSR_'+ i + '/images/analyze/IBSR_' + i +'_ana.img' for i in ['07', '15']],['./4250-Data/Validation/IBSR_'+ i + '/segmentation/analyze/IBSR_' + i +'_seg_ana.img' for i in ['07', '15']]\n",
    "\n",
    "loc_training_img, loc_training_sgm  = ['./4250-Data/Training/IBSR_0'+ str(i) + '/images/analyze/IBSR_0' + str(i) +'_ana.img' for i in range(1,7)],['./4250-Data/Training/IBSR_0'+ str(i) + '/segmentation/analyze/IBSR_0' + str(i) +'_seg_ana.img' for i in range(1,7)]\n",
    "\n",
    "loc_testing_img , temp = [], ['08','09','10','11','12','13','14','16','17']\n",
    "\n",
    "for i in temp:\n",
    "    loc_testing_img.append('./4250-Data/Testing/IBSR_'+ i + '/images/analyze/IBSR_' + i + '_ana.img')\n",
    "    \n",
    "def Sliced(img): ## input is of type nibabel image \n",
    "    img_data = img.get_fdata()\n",
    "    return img_data[:, :, int(len(img_data[0,0])/2) ] ## removed the rotation\n",
    "\n",
    "for i in range(len(loc_validation_img)):\n",
    "    validation_img.append(Sliced(nib.load(loc_validation_img[i])))\n",
    "    validation_sgm.append(Sliced(nib.load(loc_validation_sgm[i])))\n",
    "\n",
    "for i in range(len(loc_training_img)):\n",
    "    training_img.append(Sliced(nib.load(loc_training_img[i])))\n",
    "    training_sgm.append(Sliced(nib.load(loc_training_sgm[i])))\n",
    "\n",
    "for i in loc_testing_img:\n",
    "    testing_img.append(Sliced(nib.load(i)))\n"
   ]
  },
  {
   "cell_type": "code",
   "execution_count": 3,
   "metadata": {},
   "outputs": [],
   "source": [
    "## Using SkImage Affine Transfrm implementation for the geometric transformation\n",
    "\n",
    "def Trnsfrm(moving_img, glbl_sc_x, glbl_sc_y, theta, t_x, t_y, sh, grid_size_out):\n",
    "    \n",
    "    dim1,dim2, dim3, dim4 = len(moving_img), len(moving_img[0]), grid_size_out[0], grid_size_out[1] \n",
    "    \n",
    "    trns_y, trns_x = (np.array((dim3, dim4))-1) / 2.\n",
    "    \n",
    "    frnt, bck= transform.SimilarityTransform(translation=[-trns_x, -trns_y]), transform.SimilarityTransform(translation=[trns_x, trns_y])    \n",
    "    \n",
    "    Aff_Trnform = AffineTransform(scale=(glbl_sc_x, glbl_sc_y), rotation=np.deg2rad(theta), shear=sh, translation=(t_x, t_y))\n",
    "    \n",
    "    ret = warp( moving_img , ( frnt + (Aff_Trnform + bck )).inverse, order=1, clip=False, preserve_range=True, mode='symmetric')\n",
    "    \n",
    "    return ret\n",
    "\n",
    "\n",
    "## Switched to Structural Similarity as opposed to MSE used in Milestone 2\n",
    "\n",
    "def Loss(Trns_par, fix_img, mv_img):    \n",
    "    \n",
    "    geom = Trnsfrm(mv_img, *Trns_par, fix_img.shape) \n",
    "\n",
    "    return(-1* skimage.measure.compare_ssim(skimage.color.rgb2gray(geom), skimage.color.rgb2gray(fix_img)))\n",
    "    \n",
    "\n",
    "## Using Powell Optimizer for Minimizing\n",
    "\n",
    "def Optmzer(fix_img, mv_img): ## Try different optimizations \n",
    " \n",
    "    norm_fix_img, norm_mv_img  = cv2.normalize(fix_img, 0, 255, cv2.NORM_MINMAX) , cv2.normalize(mv_img, 0, 255, cv2.NORM_MINMAX)   \n",
    "    opt_par = scipy.optimize.minimize(Loss, (1,1,0,0,0,0), args = (norm_fix_img,norm_mv_img), method = 'Powell')\n",
    "    transf_img = Trnsfrm(mv_img, *opt_par.x, fix_img.shape)\n",
    "    \n",
    "    return  transf_img, opt_par.x"
   ]
  },
  {
   "cell_type": "code",
   "execution_count": 4,
   "metadata": {
    "scrolled": true
   },
   "outputs": [
    {
     "name": "stderr",
     "output_type": "stream",
     "text": [
      "/Library/Frameworks/Python.framework/Versions/3.7/lib/python3.7/site-packages/ipykernel_launcher.py:24: UserWarning: DEPRECATED: skimage.measure.compare_ssim has been moved to skimage.metrics.structural_similarity. It will be removed from skimage.measure in version 0.18.\n"
     ]
    }
   ],
   "source": [
    "opt_par, opt_par_val = [Optmzer(i, j)[1] for i in testing_img for j in training_img],[Optmzer(i, j)[1] for i in testing_img for j in validation_img]\n",
    "\n",
    "sgm_img = np.zeros((9,8,256,256,1)) ## array for storing 6 training + 2 validation segments for\n",
    "                                    ## each of the testing image\n",
    "\n",
    "## Mapping each of the 6 training segments to each of the 8 testing images\n",
    "for i in range(6): \n",
    "    sgm_img[0, i] = Trnsfrm(training_sgm[i], *opt_par[i], testing_img[0].shape)\n",
    "    sgm_img[1, i] = Trnsfrm(training_sgm[i], *opt_par[6+i], testing_img[1].shape)\n",
    "    sgm_img[2, i] = Trnsfrm(training_sgm[i], *opt_par[12+i], testing_img[2].shape)\n",
    "    sgm_img[3, i] = Trnsfrm(training_sgm[i], *opt_par[18+i], testing_img[3].shape)\n",
    "    sgm_img[4, i] = Trnsfrm(training_sgm[i], *opt_par[24+i], testing_img[4].shape)\n",
    "    sgm_img[5, i] = Trnsfrm(training_sgm[i], *opt_par[30+i], testing_img[5].shape)\n",
    "    sgm_img[6, i] = Trnsfrm(training_sgm[i], *opt_par[36+i], testing_img[6].shape)\n",
    "    sgm_img[7, i] = Trnsfrm(training_sgm[i], *opt_par[42+i], testing_img[7].shape)\n",
    "    sgm_img[8, i] = Trnsfrm(training_sgm[i], *opt_par[48+i], testing_img[8].shape)\n",
    "\n",
    "## Mapping each of the 2 validation segments to each of the 8 testing images    \n",
    "for i in range(2):\n",
    "    sgm_img[0, i+6] = Trnsfrm(validation_sgm[i], *opt_par_val[i]   , testing_img[0].shape)\n",
    "    sgm_img[1, i+6] = Trnsfrm(validation_sgm[i], *opt_par_val[i+2] , testing_img[1].shape)\n",
    "    sgm_img[2, i+6] =Trnsfrm(validation_sgm[i], *opt_par_val[i+4] , testing_img[2].shape)\n",
    "    sgm_img[3, i+6] =Trnsfrm(validation_sgm[i], *opt_par_val[i+6] , testing_img[3].shape)\n",
    "    sgm_img[4, i+6] =Trnsfrm(validation_sgm[i], *opt_par_val[i+8] , testing_img[4].shape)\n",
    "    sgm_img[5, i+6] =Trnsfrm(validation_sgm[i], *opt_par_val[i+10], testing_img[5].shape)\n",
    "    sgm_img[6, i+6] =Trnsfrm(validation_sgm[i], *opt_par_val[i+12], testing_img[6].shape)\n",
    "    sgm_img[7, i+6] =Trnsfrm(validation_sgm[i], *opt_par_val[i+14], testing_img[7].shape)\n",
    "    sgm_img[8, i+6] =Trnsfrm(validation_sgm[i], *opt_par_val[i+16], testing_img[8].shape)"
   ]
  },
  {
   "cell_type": "code",
   "execution_count": 5,
   "metadata": {},
   "outputs": [],
   "source": [
    "final_set = np.zeros((9,256,256,8))\n",
    "for i in range(9):\n",
    "    for j in range(8):\n",
    "        final_set[i,:,:,j] = sgm_img[i,j,:,:,0]\n",
    "\n",
    "\n",
    "## Computing the most frequent training label        \n",
    "def Most_Freq_Label(img):\n",
    "    \n",
    "    ret = np.zeros((256,256))\n",
    "    \n",
    "    ## iterating over all the pixel values\n",
    "    for px in range(0 , len(img)):\n",
    "        for py in range(0 , len(img[0])):\n",
    "            \n",
    "            final_lbl = []\n",
    "            for i in range(len(img[0][0])):\n",
    "                final_lbl.append(img[px][py][i])\n",
    "                \n",
    "            ## storing indices of the non-zero values     \n",
    "            non_zero_val = np.nonzero(final_lbl)\n",
    "            \n",
    "            ##Finding the mode and in case of a tie picking the one which has a higher value\n",
    "            \n",
    "            final_lbl.sort()\n",
    "            cnt = Counter(final_lbl)\n",
    "            cnt_var = cnt.most_common()\n",
    "            cnt_var.sort(key = lambda x: x[1])\n",
    "            \n",
    "            mode_val = cnt_var[len(cnt_var) -1][0]\n",
    "            \n",
    "            \n",
    "            ## Ignoring mode of 0 if non zero values present in the data\n",
    "            if(len(non_zero_val[0]) > 0 and  mode_val == 0):\n",
    "                \n",
    "                temp_lbl = []\n",
    "                for i in range(0 , len(non_zero_val[0])):\n",
    "                    temp_lbl.append(final_lbl[non_zero_val[0][i]])\n",
    "                 \n",
    "                ## Finding the mode of non-zero pixel values and in case of a \n",
    "                ## tie picking the one which has a higher value\n",
    "                \n",
    "                temp_lbl.sort()\n",
    "                cnt1 = Counter(temp_lbl)\n",
    "                cnt1_var = cnt1.most_common()\n",
    "                cnt1_var.sort(key = lambda x: x[1])\n",
    "                \n",
    "                ret[px][py] = cnt1_var[len(cnt1_var) -1][0]\n",
    "            \n",
    "            ## Mapping the max of the pixel value in case obtain the same mode\n",
    "            else:\n",
    "                ret[px][py] = mode_val\n",
    "    \n",
    "    return ret        \n",
    "\n"
   ]
  },
  {
   "cell_type": "code",
   "execution_count": 6,
   "metadata": {},
   "outputs": [
    {
     "data": {
      "text/plain": [
       "<matplotlib.image.AxesImage at 0x10604aed0>"
      ]
     },
     "execution_count": 6,
     "metadata": {},
     "output_type": "execute_result"
    },
    {
     "data": {
      "image/png": "[encoded data removed]",
      "text/plain": [
       "<Figure size 432x288 with 1 Axes>"
      ]
     },
     "metadata": {
      "needs_background": "light"
     },
     "output_type": "display_data"
    }
   ],
   "source": [
    "Final_Most_Freq = np.zeros((9,256,256))\n",
    "\n",
    "for i in range(9):\n",
    "    Final_Most_Freq[i] = Most_Freq_Label(final_set[i])\n",
    "\n",
    "##test  \n",
    "plt.imshow(Final_Most_Freq[0], cmap = 'gray')\n"
   ]
  },
  {
   "cell_type": "code",
   "execution_count": 7,
   "metadata": {},
   "outputs": [],
   "source": [
    "## Final Block for generating csv file\n",
    "\n",
    "b_msk_2,b_msk_3,b_msk_41,b_msk_42 = [],[],[],[]\n",
    "\n",
    "def Mask_bin(img, ROI):\n",
    "    imgb = np.array(img)\n",
    "    return (imgb == ROI)\n",
    "\n",
    "\n",
    "for i in range(9):\n",
    "    b_msk_2.append(Mask_bin(Final_Most_Freq[i], 2))\n",
    "    b_msk_42.append(Mask_bin(Final_Most_Freq[i], 42))\n",
    "    b_msk_3.append(Mask_bin(Final_Most_Freq[i], 3))\n",
    "    b_msk_41.append(Mask_bin(Final_Most_Freq[i], 41))\n",
    "    \n",
    "\n",
    "    \n",
    "## Submission to Kaggle code    \n",
    "\n",
    "brain_reg = ['-left-wm', '-left-cortex', '-right-wm', '-right-cortex']\n",
    "test_lbl = ['8','9','10','11','12','13','14','16','17']\n",
    "final_lbl = [] ##For storing the data in this format\n",
    "\n",
    "for i in test_lbl:\n",
    "    for j in brain_reg:\n",
    "        final_lbl.append(i+j)\n",
    "\n",
    "\n",
    "\n",
    "def rle_encode(img):\n",
    "    '''\n",
    "    img: numpy array, 1 - mask, 0 - background\n",
    "    Returns run length as string formated\n",
    "    '''\n",
    "    pixels = img.flatten()\n",
    "    pixels = np.concatenate([[0], pixels, [0]])\n",
    "    runs = np.where(pixels[1:] != pixels[:-1])[0] + 1\n",
    "    runs[1::2] -= runs[::2]\n",
    "    return ' '.join(str(x) for x in runs)\n",
    "\n",
    "\n",
    "data = []\n",
    "for i in range(len(test_lbl)):\n",
    "    data.append(rle_encode(b_msk_2[i]))\n",
    "    data.append(rle_encode(b_msk_3[i]))\n",
    "    data.append(rle_encode(b_msk_41[i]))\n",
    "    data.append(rle_encode(b_msk_42[i]))\n",
    "\n",
    "\n",
    "import pandas as pd\n",
    "### ids: list containing the 36 IDs as described above  ###\n",
    "### data: list containing the 36 binary segmentation masks in RLE format ###\n",
    "    \n",
    "df = pd.DataFrame({\"Id\": final_lbl, \"Predicted\": data})\n",
    "df.to_csv('submission.csv', index = False)\n"
   ]
  },
  {
   "cell_type": "markdown",
   "metadata": {},
   "source": [
    "___"
   ]
  }
 ],
 "metadata": {
  "kernelspec": {
   "display_name": "Python 3",
   "language": "python",
   "name": "python3"
  },
  "language_info": {
   "codemirror_mode": {
    "name": "ipython",
    "version": 3
   },
   "file_extension": ".py",
   "mimetype": "text/x-python",
   "name": "python",
   "nbconvert_exporter": "python",
   "pygments_lexer": "ipython3",
   "version": "3.7.5"
  }
 },
 "nbformat": 4,
 "nbformat_minor": 1
}
